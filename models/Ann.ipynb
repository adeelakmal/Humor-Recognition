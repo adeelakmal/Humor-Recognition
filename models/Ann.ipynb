{
 "cells": [
  {
   "cell_type": "code",
   "execution_count": 2,
   "metadata": {},
   "outputs": [],
   "source": [
    "import numpy as np\n",
    "import pandas as pd\n",
    "import tensorflow as tf\n",
    "from sklearn.model_selection import train_test_split\n",
    "from sklearn.preprocessing import StandardScaler\n",
    "import seaborn as sns\n",
    "from sklearn.impute import SimpleImputer\n",
    "from sklearn.metrics import confusion_matrix, f1_score, classification_report\n",
    "from sklearn.preprocessing import OneHotEncoder\n",
    "import pickle"
   ]
  },
  {
   "cell_type": "code",
   "execution_count": 3,
   "metadata": {},
   "outputs": [],
   "source": [
    "dataset = pd.read_csv('Data.csv')\n",
    "# Selects the Category with the highest value for each row\n",
    "dataset['Max'] = dataset[['affiliative', 'selfenhancing','agressive', 'selfdefeating']].idxmax(axis=1)"
   ]
  },
  {
   "cell_type": "code",
   "execution_count": 5,
   "metadata": {},
   "outputs": [],
   "source": [
    "# Cleaning and preprocessing the dataset\n",
    "encoder = OneHotEncoder()\n",
    "X = dataset.iloc[:, 0:32]\n",
    "imputer = SimpleImputer(missing_values=-1, strategy='mean')\n",
    "Y= encoder.fit_transform(dataset[['Max']])\n",
    "Y = Y.toarray()"
   ]
  },
  {
   "cell_type": "code",
   "execution_count": 4,
   "metadata": {},
   "outputs": [
    {
     "data": {
      "text/plain": [
       "array([[2, 5, 3, ..., 4, 4, 4],\n",
       "       [2, 2, 4, ..., 3, 2, 4],\n",
       "       [1, 4, 4, ..., 5, 5, 1],\n",
       "       ...,\n",
       "       [1, 3, 4, ..., 5, 1, 1],\n",
       "       [1, 5, 3, ..., 3, 4, 4],\n",
       "       [1, 4, 3, ..., 3, 1, 5]], dtype=int64)"
      ]
     },
     "execution_count": 4,
     "metadata": {},
     "output_type": "execute_result"
    }
   ],
   "source": [
    "X=X.to_numpy()\n",
    "X_train, X_test, Y_train, Y_test = train_test_split(X, Y, test_size=0.2, random_state=0)\n",
    "X_test"
   ]
  },
  {
   "cell_type": "code",
   "execution_count": 5,
   "metadata": {},
   "outputs": [
    {
     "data": {
      "text/plain": [
       "array([[-0.0237853 ,  1.52499633, -0.05399147, ...,  0.04785243,\n",
       "         0.92171733,  0.91989192],\n",
       "       [-0.0237853 , -1.22900548,  0.80187331, ..., -0.84261886,\n",
       "        -0.59996066,  0.91989192],\n",
       "       [-0.94924965,  0.60699573,  0.80187331, ...,  0.93832371,\n",
       "         1.68255633, -1.50794205],\n",
       "       ...,\n",
       "       [-0.94924965, -0.31100488,  0.80187331, ...,  0.93832371,\n",
       "        -1.36079965, -1.50794205],\n",
       "       [-0.94924965,  1.52499633, -0.05399147, ..., -0.84261886,\n",
       "         0.92171733,  0.91989192],\n",
       "       [-0.94924965,  0.60699573, -0.05399147, ..., -0.84261886,\n",
       "        -1.36079965,  1.72916991]])"
      ]
     },
     "execution_count": 5,
     "metadata": {},
     "output_type": "execute_result"
    }
   ],
   "source": [
    "sc = StandardScaler()\n",
    "X_train = sc.fit_transform(X_train)\n",
    "X_test = sc.transform(X_test)\n",
    "X_test"
   ]
  },
  {
   "cell_type": "code",
   "execution_count": 6,
   "metadata": {},
   "outputs": [
    {
     "name": "stdout",
     "output_type": "stream",
     "text": [
      "Model: \"sequential\"\n",
      "_________________________________________________________________\n",
      " Layer (type)                Output Shape              Param #   \n",
      "=================================================================\n",
      " dense (Dense)               (None, 50)                1650      \n",
      "                                                                 \n",
      " dense_1 (Dense)             (None, 25)                1275      \n",
      "                                                                 \n",
      " dense_2 (Dense)             (None, 4)                 104       \n",
      "                                                                 \n",
      "=================================================================\n",
      "Total params: 3,029\n",
      "Trainable params: 3,029\n",
      "Non-trainable params: 0\n",
      "_________________________________________________________________\n"
     ]
    }
   ],
   "source": [
    "# Building the network\n",
    "ann = tf.keras.models.Sequential()\n",
    "ann.add(tf.keras.layers.Dense(units=50, activation='sigmoid', input_shape=X_train[0].shape))\n",
    "ann.add(tf.keras.layers.Dense(units=25, activation='sigmoid'))\n",
    "ann.add(tf.keras.layers.Dense(units=4, activation=\"sigmoid\"))\n",
    "ann.summary()"
   ]
  },
  {
   "cell_type": "code",
   "execution_count": 7,
   "metadata": {},
   "outputs": [
    {
     "name": "stdout",
     "output_type": "stream",
     "text": [
      "Epoch 1/100\n",
      "27/27 [==============================] - 2s 4ms/step - loss: 0.6060 - accuracy: 0.7664\n",
      "Epoch 2/100\n",
      "27/27 [==============================] - 0s 4ms/step - loss: 0.4462 - accuracy: 0.7664\n",
      "Epoch 3/100\n",
      "27/27 [==============================] - 0s 4ms/step - loss: 0.3754 - accuracy: 0.7664\n",
      "Epoch 4/100\n",
      "27/27 [==============================] - 0s 4ms/step - loss: 0.3416 - accuracy: 0.7664\n",
      "Epoch 5/100\n",
      "27/27 [==============================] - 0s 3ms/step - loss: 0.3217 - accuracy: 0.7664\n",
      "Epoch 6/100\n",
      "27/27 [==============================] - 0s 3ms/step - loss: 0.3055 - accuracy: 0.7664\n",
      "Epoch 7/100\n",
      "27/27 [==============================] - 0s 3ms/step - loss: 0.2900 - accuracy: 0.7664\n",
      "Epoch 8/100\n",
      "27/27 [==============================] - 0s 3ms/step - loss: 0.2741 - accuracy: 0.7664\n",
      "Epoch 9/100\n",
      "27/27 [==============================] - 0s 4ms/step - loss: 0.2578 - accuracy: 0.7675\n",
      "Epoch 10/100\n",
      "27/27 [==============================] - 0s 4ms/step - loss: 0.2418 - accuracy: 0.7804\n",
      "Epoch 11/100\n",
      "27/27 [==============================] - 0s 4ms/step - loss: 0.2273 - accuracy: 0.7956\n",
      "Epoch 12/100\n",
      "27/27 [==============================] - 0s 6ms/step - loss: 0.2144 - accuracy: 0.8154\n",
      "Epoch 13/100\n",
      "27/27 [==============================] - 0s 4ms/step - loss: 0.2033 - accuracy: 0.8294\n",
      "Epoch 14/100\n",
      "27/27 [==============================] - 0s 4ms/step - loss: 0.1938 - accuracy: 0.8470\n",
      "Epoch 15/100\n",
      "27/27 [==============================] - 0s 4ms/step - loss: 0.1859 - accuracy: 0.8563\n",
      "Epoch 16/100\n",
      "27/27 [==============================] - 0s 3ms/step - loss: 0.1787 - accuracy: 0.8645\n",
      "Epoch 17/100\n",
      "27/27 [==============================] - 0s 3ms/step - loss: 0.1728 - accuracy: 0.8692\n",
      "Epoch 18/100\n",
      "27/27 [==============================] - 0s 3ms/step - loss: 0.1674 - accuracy: 0.8727\n",
      "Epoch 19/100\n",
      "27/27 [==============================] - 0s 3ms/step - loss: 0.1629 - accuracy: 0.8692\n",
      "Epoch 20/100\n",
      "27/27 [==============================] - 0s 3ms/step - loss: 0.1584 - accuracy: 0.8715\n",
      "Epoch 21/100\n",
      "27/27 [==============================] - 0s 4ms/step - loss: 0.1546 - accuracy: 0.8773\n",
      "Epoch 22/100\n",
      "27/27 [==============================] - 0s 3ms/step - loss: 0.1511 - accuracy: 0.8785\n",
      "Epoch 23/100\n",
      "27/27 [==============================] - 0s 3ms/step - loss: 0.1476 - accuracy: 0.8808\n",
      "Epoch 24/100\n",
      "27/27 [==============================] - 0s 3ms/step - loss: 0.1445 - accuracy: 0.8820\n",
      "Epoch 25/100\n",
      "27/27 [==============================] - 0s 5ms/step - loss: 0.1418 - accuracy: 0.8855\n",
      "Epoch 26/100\n",
      "27/27 [==============================] - 0s 4ms/step - loss: 0.1389 - accuracy: 0.8855\n",
      "Epoch 27/100\n",
      "27/27 [==============================] - 0s 3ms/step - loss: 0.1362 - accuracy: 0.8890\n",
      "Epoch 28/100\n",
      "27/27 [==============================] - 0s 3ms/step - loss: 0.1337 - accuracy: 0.8914\n",
      "Epoch 29/100\n",
      "27/27 [==============================] - 0s 3ms/step - loss: 0.1311 - accuracy: 0.8949\n",
      "Epoch 30/100\n",
      "27/27 [==============================] - 0s 2ms/step - loss: 0.1287 - accuracy: 0.8984\n",
      "Epoch 31/100\n",
      "27/27 [==============================] - 0s 2ms/step - loss: 0.1263 - accuracy: 0.9007\n",
      "Epoch 32/100\n",
      "27/27 [==============================] - 0s 2ms/step - loss: 0.1239 - accuracy: 0.9042\n",
      "Epoch 33/100\n",
      "27/27 [==============================] - 0s 3ms/step - loss: 0.1216 - accuracy: 0.9089\n",
      "Epoch 34/100\n",
      "27/27 [==============================] - 0s 2ms/step - loss: 0.1192 - accuracy: 0.9112\n",
      "Epoch 35/100\n",
      "27/27 [==============================] - 0s 2ms/step - loss: 0.1170 - accuracy: 0.9136\n",
      "Epoch 36/100\n",
      "27/27 [==============================] - 0s 2ms/step - loss: 0.1146 - accuracy: 0.9159\n",
      "Epoch 37/100\n",
      "27/27 [==============================] - 0s 2ms/step - loss: 0.1125 - accuracy: 0.9171\n",
      "Epoch 38/100\n",
      "27/27 [==============================] - 0s 2ms/step - loss: 0.1105 - accuracy: 0.9217\n",
      "Epoch 39/100\n",
      "27/27 [==============================] - 0s 2ms/step - loss: 0.1086 - accuracy: 0.9206\n",
      "Epoch 40/100\n",
      "27/27 [==============================] - 0s 2ms/step - loss: 0.1065 - accuracy: 0.9241\n",
      "Epoch 41/100\n",
      "27/27 [==============================] - 0s 2ms/step - loss: 0.1045 - accuracy: 0.9264\n",
      "Epoch 42/100\n",
      "27/27 [==============================] - 0s 2ms/step - loss: 0.1027 - accuracy: 0.9287\n",
      "Epoch 43/100\n",
      "27/27 [==============================] - 0s 2ms/step - loss: 0.1007 - accuracy: 0.9287\n",
      "Epoch 44/100\n",
      "27/27 [==============================] - 0s 3ms/step - loss: 0.0988 - accuracy: 0.9357\n",
      "Epoch 45/100\n",
      "27/27 [==============================] - 0s 2ms/step - loss: 0.0970 - accuracy: 0.9404\n",
      "Epoch 46/100\n",
      "27/27 [==============================] - 0s 3ms/step - loss: 0.0951 - accuracy: 0.9428\n",
      "Epoch 47/100\n",
      "27/27 [==============================] - 0s 2ms/step - loss: 0.0937 - accuracy: 0.9439\n",
      "Epoch 48/100\n",
      "27/27 [==============================] - 0s 2ms/step - loss: 0.0920 - accuracy: 0.9439\n",
      "Epoch 49/100\n",
      "27/27 [==============================] - 0s 3ms/step - loss: 0.0901 - accuracy: 0.9474\n",
      "Epoch 50/100\n",
      "27/27 [==============================] - 0s 2ms/step - loss: 0.0884 - accuracy: 0.9498\n",
      "Epoch 51/100\n",
      "27/27 [==============================] - 0s 2ms/step - loss: 0.0868 - accuracy: 0.9498\n",
      "Epoch 52/100\n",
      "27/27 [==============================] - 0s 2ms/step - loss: 0.0854 - accuracy: 0.9544\n",
      "Epoch 53/100\n",
      "27/27 [==============================] - 0s 2ms/step - loss: 0.0838 - accuracy: 0.9533\n",
      "Epoch 54/100\n",
      "27/27 [==============================] - 0s 2ms/step - loss: 0.0822 - accuracy: 0.9603\n",
      "Epoch 55/100\n",
      "27/27 [==============================] - 0s 2ms/step - loss: 0.0806 - accuracy: 0.9626\n",
      "Epoch 56/100\n",
      "27/27 [==============================] - 0s 2ms/step - loss: 0.0790 - accuracy: 0.9638\n",
      "Epoch 57/100\n",
      "27/27 [==============================] - 0s 2ms/step - loss: 0.0779 - accuracy: 0.9661\n",
      "Epoch 58/100\n",
      "27/27 [==============================] - 0s 2ms/step - loss: 0.0763 - accuracy: 0.9685\n",
      "Epoch 59/100\n",
      "27/27 [==============================] - 0s 2ms/step - loss: 0.0751 - accuracy: 0.9661\n",
      "Epoch 60/100\n",
      "27/27 [==============================] - 0s 2ms/step - loss: 0.0736 - accuracy: 0.9708\n",
      "Epoch 61/100\n",
      "27/27 [==============================] - 0s 3ms/step - loss: 0.0725 - accuracy: 0.9708\n",
      "Epoch 62/100\n",
      "27/27 [==============================] - 0s 2ms/step - loss: 0.0712 - accuracy: 0.9708\n",
      "Epoch 63/100\n",
      "27/27 [==============================] - 0s 4ms/step - loss: 0.0699 - accuracy: 0.9696\n",
      "Epoch 64/100\n",
      "27/27 [==============================] - 0s 3ms/step - loss: 0.0686 - accuracy: 0.9720\n",
      "Epoch 65/100\n",
      "27/27 [==============================] - 0s 2ms/step - loss: 0.0677 - accuracy: 0.9708\n",
      "Epoch 66/100\n",
      "27/27 [==============================] - 0s 2ms/step - loss: 0.0665 - accuracy: 0.9720\n",
      "Epoch 67/100\n",
      "27/27 [==============================] - 0s 2ms/step - loss: 0.0651 - accuracy: 0.9708\n",
      "Epoch 68/100\n",
      "27/27 [==============================] - 0s 2ms/step - loss: 0.0642 - accuracy: 0.9720\n",
      "Epoch 69/100\n",
      "27/27 [==============================] - 0s 2ms/step - loss: 0.0635 - accuracy: 0.9720\n",
      "Epoch 70/100\n",
      "27/27 [==============================] - 0s 2ms/step - loss: 0.0621 - accuracy: 0.9731\n",
      "Epoch 71/100\n",
      "27/27 [==============================] - 0s 2ms/step - loss: 0.0610 - accuracy: 0.9731\n",
      "Epoch 72/100\n",
      "27/27 [==============================] - 0s 3ms/step - loss: 0.0599 - accuracy: 0.9743\n",
      "Epoch 73/100\n",
      "27/27 [==============================] - 0s 2ms/step - loss: 0.0590 - accuracy: 0.9755\n",
      "Epoch 74/100\n",
      "27/27 [==============================] - 0s 2ms/step - loss: 0.0581 - accuracy: 0.9743\n",
      "Epoch 75/100\n",
      "27/27 [==============================] - 0s 2ms/step - loss: 0.0570 - accuracy: 0.9743\n",
      "Epoch 76/100\n",
      "27/27 [==============================] - 0s 2ms/step - loss: 0.0561 - accuracy: 0.9766\n",
      "Epoch 77/100\n",
      "27/27 [==============================] - 0s 2ms/step - loss: 0.0550 - accuracy: 0.9766\n",
      "Epoch 78/100\n",
      "27/27 [==============================] - 0s 2ms/step - loss: 0.0543 - accuracy: 0.9766\n",
      "Epoch 79/100\n",
      "27/27 [==============================] - 0s 2ms/step - loss: 0.0533 - accuracy: 0.9766\n",
      "Epoch 80/100\n",
      "27/27 [==============================] - 0s 2ms/step - loss: 0.0524 - accuracy: 0.9766\n",
      "Epoch 81/100\n",
      "27/27 [==============================] - 0s 5ms/step - loss: 0.0515 - accuracy: 0.9801\n",
      "Epoch 82/100\n",
      "27/27 [==============================] - 0s 4ms/step - loss: 0.0511 - accuracy: 0.9801\n",
      "Epoch 83/100\n",
      "27/27 [==============================] - 0s 3ms/step - loss: 0.0503 - accuracy: 0.9778\n",
      "Epoch 84/100\n",
      "27/27 [==============================] - 0s 3ms/step - loss: 0.0498 - accuracy: 0.9801\n",
      "Epoch 85/100\n",
      "27/27 [==============================] - 0s 3ms/step - loss: 0.0488 - accuracy: 0.9790\n",
      "Epoch 86/100\n",
      "27/27 [==============================] - 0s 2ms/step - loss: 0.0476 - accuracy: 0.9825\n",
      "Epoch 87/100\n",
      "27/27 [==============================] - 0s 2ms/step - loss: 0.0469 - accuracy: 0.9825\n",
      "Epoch 88/100\n",
      "27/27 [==============================] - 0s 2ms/step - loss: 0.0461 - accuracy: 0.9813\n",
      "Epoch 89/100\n",
      "27/27 [==============================] - 0s 2ms/step - loss: 0.0456 - accuracy: 0.9813\n",
      "Epoch 90/100\n",
      "27/27 [==============================] - 0s 3ms/step - loss: 0.0447 - accuracy: 0.9825\n",
      "Epoch 91/100\n",
      "27/27 [==============================] - 0s 2ms/step - loss: 0.0440 - accuracy: 0.9813\n",
      "Epoch 92/100\n",
      "27/27 [==============================] - 0s 2ms/step - loss: 0.0432 - accuracy: 0.9825\n",
      "Epoch 93/100\n",
      "27/27 [==============================] - 0s 2ms/step - loss: 0.0425 - accuracy: 0.9825\n",
      "Epoch 94/100\n",
      "27/27 [==============================] - 0s 3ms/step - loss: 0.0422 - accuracy: 0.9836\n",
      "Epoch 95/100\n",
      "27/27 [==============================] - 0s 2ms/step - loss: 0.0414 - accuracy: 0.9836\n",
      "Epoch 96/100\n",
      "27/27 [==============================] - 0s 2ms/step - loss: 0.0409 - accuracy: 0.9825\n",
      "Epoch 97/100\n",
      "27/27 [==============================] - 0s 2ms/step - loss: 0.0402 - accuracy: 0.9848\n",
      "Epoch 98/100\n",
      "27/27 [==============================] - 0s 3ms/step - loss: 0.0393 - accuracy: 0.9836\n",
      "Epoch 99/100\n",
      "27/27 [==============================] - 0s 2ms/step - loss: 0.0389 - accuracy: 0.9848\n",
      "Epoch 100/100\n",
      "27/27 [==============================] - 0s 3ms/step - loss: 0.0384 - accuracy: 0.9860\n"
     ]
    },
    {
     "data": {
      "text/plain": [
       "<keras.callbacks.History at 0x1b1c45da850>"
      ]
     },
     "execution_count": 7,
     "metadata": {},
     "output_type": "execute_result"
    }
   ],
   "source": [
    "ann.compile(optimizer = 'adam', loss = 'binary_crossentropy', metrics = ['accuracy'])\n",
    "ann.fit(X_train, Y_train, batch_size = 32, epochs = 100)"
   ]
  },
  {
   "cell_type": "code",
   "execution_count": 8,
   "metadata": {},
   "outputs": [
    {
     "name": "stdout",
     "output_type": "stream",
     "text": [
      "2/2 [==============================] - 0s 4ms/step - loss: 0.0517 - accuracy: 0.9721\n"
     ]
    },
    {
     "data": {
      "text/plain": [
       "[0.051693204790353775, 0.9720930457115173]"
      ]
     },
     "execution_count": 8,
     "metadata": {},
     "output_type": "execute_result"
    }
   ],
   "source": [
    "results = ann.evaluate(X_test, Y_test, batch_size=128)\n",
    "results"
   ]
  },
  {
   "cell_type": "code",
   "execution_count": 9,
   "metadata": {},
   "outputs": [
    {
     "name": "stdout",
     "output_type": "stream",
     "text": [
      "7/7 [==============================] - 0s 1ms/step\n"
     ]
    },
    {
     "data": {
      "text/plain": [
       "array([[1., 0., 0., 0.],\n",
       "       [1., 0., 0., 0.],\n",
       "       [1., 0., 0., 0.],\n",
       "       [1., 0., 0., 0.],\n",
       "       [0., 0., 0., 1.],\n",
       "       [1., 0., 0., 0.],\n",
       "       [0., 0., 0., 1.],\n",
       "       [1., 0., 0., 0.],\n",
       "       [0., 0., 0., 0.],\n",
       "       [1., 0., 0., 0.],\n",
       "       [1., 0., 0., 0.],\n",
       "       [0., 0., 1., 0.],\n",
       "       [1., 0., 0., 0.],\n",
       "       [1., 0., 0., 0.],\n",
       "       [1., 0., 0., 0.],\n",
       "       [1., 0., 0., 0.],\n",
       "       [1., 0., 0., 0.],\n",
       "       [1., 0., 0., 0.],\n",
       "       [1., 0., 0., 0.],\n",
       "       [1., 0., 0., 0.],\n",
       "       [1., 0., 0., 0.],\n",
       "       [1., 0., 0., 0.],\n",
       "       [0., 0., 0., 1.],\n",
       "       [1., 0., 0., 0.],\n",
       "       [1., 0., 0., 0.],\n",
       "       [1., 0., 0., 0.],\n",
       "       [0., 0., 0., 1.],\n",
       "       [1., 0., 0., 0.],\n",
       "       [1., 0., 0., 0.],\n",
       "       [1., 0., 0., 0.],\n",
       "       [1., 0., 0., 0.],\n",
       "       [0., 0., 0., 1.],\n",
       "       [0., 0., 0., 1.],\n",
       "       [1., 0., 0., 0.],\n",
       "       [0., 0., 0., 1.],\n",
       "       [1., 0., 0., 0.],\n",
       "       [1., 0., 0., 0.],\n",
       "       [0., 1., 0., 0.],\n",
       "       [1., 0., 0., 0.],\n",
       "       [1., 0., 0., 0.],\n",
       "       [1., 0., 0., 0.],\n",
       "       [1., 0., 0., 0.],\n",
       "       [1., 0., 0., 0.],\n",
       "       [1., 0., 0., 0.],\n",
       "       [1., 0., 0., 0.],\n",
       "       [1., 0., 0., 0.],\n",
       "       [1., 0., 0., 0.],\n",
       "       [1., 0., 0., 0.],\n",
       "       [1., 0., 0., 0.],\n",
       "       [0., 0., 0., 1.],\n",
       "       [1., 0., 0., 0.],\n",
       "       [1., 0., 0., 0.],\n",
       "       [0., 1., 0., 0.],\n",
       "       [1., 0., 0., 0.],\n",
       "       [1., 0., 0., 0.],\n",
       "       [0., 0., 0., 1.],\n",
       "       [1., 0., 0., 0.],\n",
       "       [0., 0., 0., 0.],\n",
       "       [1., 0., 0., 0.],\n",
       "       [1., 0., 0., 0.],\n",
       "       [1., 0., 0., 0.],\n",
       "       [1., 0., 0., 0.],\n",
       "       [0., 0., 0., 1.],\n",
       "       [1., 0., 0., 0.],\n",
       "       [1., 0., 0., 0.],\n",
       "       [0., 0., 0., 1.],\n",
       "       [1., 0., 0., 0.],\n",
       "       [1., 0., 0., 0.],\n",
       "       [1., 0., 0., 0.],\n",
       "       [1., 0., 0., 0.],\n",
       "       [1., 0., 0., 0.],\n",
       "       [1., 0., 0., 0.],\n",
       "       [0., 0., 0., 1.],\n",
       "       [1., 0., 0., 0.],\n",
       "       [1., 0., 0., 0.],\n",
       "       [1., 0., 0., 1.],\n",
       "       [0., 0., 0., 1.],\n",
       "       [1., 0., 0., 0.],\n",
       "       [1., 0., 0., 0.],\n",
       "       [1., 0., 0., 0.],\n",
       "       [1., 0., 0., 0.],\n",
       "       [0., 0., 0., 1.],\n",
       "       [0., 0., 0., 1.],\n",
       "       [1., 0., 0., 0.],\n",
       "       [1., 0., 0., 0.],\n",
       "       [1., 0., 0., 0.],\n",
       "       [1., 0., 0., 0.],\n",
       "       [1., 0., 0., 0.],\n",
       "       [1., 0., 0., 0.],\n",
       "       [1., 0., 0., 0.],\n",
       "       [1., 0., 0., 0.],\n",
       "       [1., 0., 0., 0.],\n",
       "       [1., 0., 0., 0.],\n",
       "       [1., 0., 0., 0.],\n",
       "       [1., 0., 0., 0.],\n",
       "       [1., 0., 0., 0.],\n",
       "       [1., 0., 0., 0.],\n",
       "       [1., 0., 0., 0.],\n",
       "       [1., 0., 0., 0.],\n",
       "       [1., 0., 0., 0.],\n",
       "       [0., 1., 0., 0.],\n",
       "       [0., 1., 0., 0.],\n",
       "       [1., 0., 0., 0.],\n",
       "       [1., 0., 0., 0.],\n",
       "       [1., 0., 0., 0.],\n",
       "       [1., 0., 0., 0.],\n",
       "       [1., 0., 0., 0.],\n",
       "       [1., 0., 0., 0.],\n",
       "       [1., 0., 0., 0.],\n",
       "       [1., 0., 0., 0.],\n",
       "       [1., 0., 0., 0.],\n",
       "       [1., 0., 0., 0.],\n",
       "       [1., 0., 0., 0.],\n",
       "       [1., 0., 0., 0.],\n",
       "       [0., 0., 0., 1.],\n",
       "       [1., 0., 0., 0.],\n",
       "       [0., 0., 0., 1.],\n",
       "       [1., 0., 0., 0.],\n",
       "       [1., 0., 0., 0.],\n",
       "       [1., 0., 0., 0.],\n",
       "       [0., 0., 0., 1.],\n",
       "       [1., 0., 0., 0.],\n",
       "       [1., 0., 0., 0.],\n",
       "       [1., 0., 0., 0.],\n",
       "       [0., 0., 0., 1.],\n",
       "       [0., 0., 1., 0.],\n",
       "       [1., 0., 0., 0.],\n",
       "       [1., 0., 0., 0.],\n",
       "       [1., 0., 0., 0.],\n",
       "       [1., 0., 0., 0.],\n",
       "       [0., 0., 0., 1.],\n",
       "       [1., 0., 0., 0.],\n",
       "       [1., 0., 0., 0.],\n",
       "       [1., 0., 0., 0.],\n",
       "       [1., 0., 0., 0.],\n",
       "       [1., 0., 0., 0.],\n",
       "       [1., 0., 0., 0.],\n",
       "       [1., 0., 0., 0.],\n",
       "       [1., 0., 0., 0.],\n",
       "       [0., 0., 0., 1.],\n",
       "       [1., 0., 0., 0.],\n",
       "       [1., 0., 0., 0.],\n",
       "       [1., 0., 0., 0.],\n",
       "       [1., 0., 0., 0.],\n",
       "       [0., 0., 0., 1.],\n",
       "       [1., 0., 0., 0.],\n",
       "       [1., 0., 0., 0.],\n",
       "       [1., 0., 0., 0.],\n",
       "       [1., 0., 0., 0.],\n",
       "       [1., 0., 0., 0.],\n",
       "       [1., 0., 0., 0.],\n",
       "       [1., 0., 0., 0.],\n",
       "       [1., 0., 0., 0.],\n",
       "       [1., 0., 0., 0.],\n",
       "       [1., 0., 0., 0.],\n",
       "       [0., 0., 0., 1.],\n",
       "       [1., 0., 0., 0.],\n",
       "       [0., 0., 0., 1.],\n",
       "       [0., 0., 1., 0.],\n",
       "       [1., 0., 0., 0.],\n",
       "       [0., 0., 0., 1.],\n",
       "       [1., 0., 0., 0.],\n",
       "       [1., 0., 0., 0.],\n",
       "       [1., 0., 0., 0.],\n",
       "       [1., 0., 0., 0.],\n",
       "       [1., 0., 0., 0.],\n",
       "       [1., 0., 0., 0.],\n",
       "       [0., 0., 0., 1.],\n",
       "       [0., 0., 1., 0.],\n",
       "       [1., 0., 0., 0.],\n",
       "       [1., 0., 0., 0.],\n",
       "       [1., 0., 0., 0.],\n",
       "       [1., 0., 0., 0.],\n",
       "       [1., 0., 0., 0.],\n",
       "       [1., 0., 0., 0.],\n",
       "       [1., 0., 0., 0.],\n",
       "       [0., 0., 1., 0.],\n",
       "       [1., 0., 0., 0.],\n",
       "       [0., 1., 0., 0.],\n",
       "       [0., 0., 0., 1.],\n",
       "       [1., 0., 0., 0.],\n",
       "       [0., 0., 0., 1.],\n",
       "       [1., 0., 0., 0.],\n",
       "       [0., 0., 0., 0.],\n",
       "       [1., 0., 0., 0.],\n",
       "       [1., 0., 0., 0.],\n",
       "       [1., 0., 0., 0.],\n",
       "       [0., 0., 0., 1.],\n",
       "       [1., 0., 0., 0.],\n",
       "       [1., 0., 0., 0.],\n",
       "       [1., 0., 0., 0.],\n",
       "       [1., 0., 0., 0.],\n",
       "       [1., 0., 0., 0.],\n",
       "       [1., 0., 0., 0.],\n",
       "       [0., 0., 0., 1.],\n",
       "       [0., 0., 0., 1.],\n",
       "       [1., 0., 0., 0.],\n",
       "       [1., 0., 0., 0.],\n",
       "       [1., 0., 0., 0.],\n",
       "       [1., 0., 0., 0.],\n",
       "       [1., 0., 0., 0.],\n",
       "       [0., 0., 0., 0.],\n",
       "       [1., 0., 0., 0.],\n",
       "       [1., 0., 0., 0.],\n",
       "       [1., 0., 0., 0.],\n",
       "       [1., 0., 0., 0.],\n",
       "       [1., 0., 0., 0.],\n",
       "       [0., 0., 0., 1.],\n",
       "       [0., 0., 0., 1.],\n",
       "       [1., 0., 0., 0.],\n",
       "       [1., 0., 0., 0.],\n",
       "       [1., 0., 0., 0.],\n",
       "       [1., 0., 0., 0.],\n",
       "       [1., 0., 0., 0.],\n",
       "       [1., 0., 0., 0.]], dtype=float32)"
      ]
     },
     "execution_count": 9,
     "metadata": {},
     "output_type": "execute_result"
    }
   ],
   "source": [
    "Y_pred = ann.predict(X_test)\n",
    "Y_pred = np.round_(Y_pred)\n",
    "Y_pred"
   ]
  },
  {
   "cell_type": "code",
   "execution_count": 10,
   "metadata": {},
   "outputs": [
    {
     "data": {
      "text/plain": [
       "array([[167,   1,   1,   3],\n",
       "       [  0,   5,   0,   0],\n",
       "       [  0,   0,   5,   0],\n",
       "       [  2,   0,   0,  31]], dtype=int64)"
      ]
     },
     "execution_count": 10,
     "metadata": {},
     "output_type": "execute_result"
    }
   ],
   "source": [
    "cm = confusion_matrix(Y_pred.argmax(axis=1),Y_test.argmax(axis=1))\n",
    "cm"
   ]
  },
  {
   "cell_type": "code",
   "execution_count": 11,
   "metadata": {},
   "outputs": [
    {
     "data": {
      "text/plain": [
       "<AxesSubplot:>"
      ]
     },
     "execution_count": 11,
     "metadata": {},
     "output_type": "execute_result"
    },
    {
     "data": {
      "image/png": "[encoded data removed]",
      "text/plain": [
       "<Figure size 432x288 with 2 Axes>"
      ]
     },
     "metadata": {
      "needs_background": "light"
     },
     "output_type": "display_data"
    }
   ],
   "source": [
    "\n",
    "sns.heatmap(cm, annot=True, xticklabels=dataset.iloc[:, -8:-4].columns,\n",
    "            yticklabels=dataset.iloc[:, -8:-4].columns)"
   ]
  },
  {
   "cell_type": "code",
   "execution_count": 12,
   "metadata": {},
   "outputs": [
    {
     "name": "stdout",
     "output_type": "stream",
     "text": [
      "              precision    recall  f1-score   support\n",
      "\n",
      "           0       0.98      0.98      0.98       169\n",
      "           1       1.00      0.83      0.91         6\n",
      "           2       1.00      0.83      0.91         6\n",
      "           3       0.94      0.94      0.94        34\n",
      "\n",
      "   micro avg       0.98      0.96      0.97       215\n",
      "   macro avg       0.98      0.90      0.93       215\n",
      "weighted avg       0.98      0.96      0.97       215\n",
      " samples avg       0.96      0.96      0.96       215\n",
      "\n"
     ]
    },
    {
     "name": "stderr",
     "output_type": "stream",
     "text": [
      "c:\\Python\\Python 3.9\\lib\\site-packages\\sklearn\\metrics\\_classification.py:1344: UndefinedMetricWarning: Precision and F-score are ill-defined and being set to 0.0 in samples with no predicted labels. Use `zero_division` parameter to control this behavior.\n",
      "  _warn_prf(average, modifier, msg_start, len(result))\n"
     ]
    },
    {
     "data": {
      "text/plain": [
       "array([0.97922849, 0.90909091, 0.90909091, 0.94117647])"
      ]
     },
     "execution_count": 12,
     "metadata": {},
     "output_type": "execute_result"
    }
   ],
   "source": [
    "f1 = f1_score(Y_test, Y_pred, average=None)\n",
    "print(classification_report(Y_test, Y_pred))\n",
    "f1"
   ]
  },
  {
   "cell_type": "code",
   "execution_count": 13,
   "metadata": {},
   "outputs": [
    {
     "name": "stdout",
     "output_type": "stream",
     "text": [
      "Keras weights file (<HDF5 file \"variables.h5\" (mode r+)>) saving:\n",
      "...layers\\dense\n",
      "......vars\n",
      ".........0\n",
      ".........1\n",
      "...layers\\dense_1\n",
      "......vars\n",
      ".........0\n",
      ".........1\n",
      "...layers\\dense_2\n",
      "......vars\n",
      ".........0\n",
      ".........1\n",
      "...metrics\\mean\n",
      "......vars\n",
      ".........0\n",
      ".........1\n",
      "...metrics\\mean_metric_wrapper\n",
      "......vars\n",
      ".........0\n",
      ".........1\n",
      "...optimizer\n",
      "......vars\n",
      ".........0\n",
      ".........1\n",
      ".........10\n",
      ".........11\n",
      ".........12\n",
      ".........2\n",
      ".........3\n",
      ".........4\n",
      ".........5\n",
      ".........6\n",
      ".........7\n",
      ".........8\n",
      ".........9\n",
      "...vars\n",
      "Keras model archive saving:\n",
      "File Name                                             Modified             Size\n",
      "config.json                                    2023-01-16 16:16:52         1830\n",
      "metadata.json                                  2023-01-16 16:16:52           64\n",
      "variables.h5                                   2023-01-16 16:16:52        58344\n"
     ]
    }
   ],
   "source": [
    "pickle.dump(ann, open(\"model.pkl\",\"wb\"))\n",
    "pickle.dump(sc,open('scalar.pkl','wb'))"
   ]
  }
 ],
 "metadata": {
  "kernelspec": {
   "display_name": "Python 3.9.2 64-bit",
   "language": "python",
   "name": "python3"
  },
  "language_info": {
   "codemirror_mode": {
    "name": "ipython",
    "version": 3
   },
   "file_extension": ".py",
   "mimetype": "text/x-python",
   "name": "python",
   "nbconvert_exporter": "python",
   "pygments_lexer": "ipython3",
   "version": "3.9.2"
  },
  "orig_nbformat": 4,
  "vscode": {
   "interpreter": {
    "hash": "390599a7e1f63e8f1c885d65702f9ad1264cb546edbfd356a254c010a94ea9c6"
   }
  }
 },
 "nbformat": 4,
 "nbformat_minor": 2
}
